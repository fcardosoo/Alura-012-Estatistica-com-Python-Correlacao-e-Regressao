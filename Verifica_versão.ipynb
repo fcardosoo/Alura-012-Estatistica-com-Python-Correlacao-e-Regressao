{
 "cells": [
  {
   "cell_type": "code",
   "execution_count": 1,
   "metadata": {
    "colab": {},
    "colab_type": "code",
    "id": "gSHqMRhFzcAb"
   },
   "outputs": [],
   "source": [
    "import pandas\n",
    "import numpy\n",
    "import seaborn\n",
    "import scipy\n",
    "import statsmodels"
   ]
  },
  {
   "cell_type": "code",
   "execution_count": null,
   "metadata": {
    "colab": {},
    "colab_type": "code",
    "id": "GQ5bxfxXzvKp"
   },
   "outputs": [],
   "source": [
    "print('Versão do pandas -> %s' % pandas.__version__)\n",
    "print('Versão do numpy -> %s' % numpy.__version__)\n",
    "print('Versão do seaborn -> %s' % seaborn.__version__)\n",
    "print('Versão do scipy -> %s' % scipy.__version__)\n",
    "print('Versão do statsmodels -> %s' % statsmodels.__version__)"
   ]
  },
  {
   "cell_type": "markdown",
   "metadata": {
    "colab_type": "text",
    "id": "Q1k5ex0Xi-3y"
   },
   "source": [
    "### Problema com dependência do *statsmodels*"
   ]
  },
  {
   "cell_type": "code",
   "execution_count": 2,
   "metadata": {
    "colab": {},
    "colab_type": "code",
    "id": "5cbhXxAkjGQB"
   },
   "outputs": [],
   "source": [
    "import statsmodels.api"
   ]
  },
  {
   "cell_type": "code",
   "execution_count": 3,
   "metadata": {
    "colab": {},
    "colab_type": "code",
    "id": "DHHDAfHCjLCB"
   },
   "outputs": [
    {
     "ename": "ImportError",
     "evalue": "cannot import name 'factorial' from 'scipy.misc' (c:\\Python39\\lib\\site-packages\\scipy\\misc\\__init__.py)",
     "output_type": "error",
     "traceback": [
      "\u001b[1;31m---------------------------------------------------------------------------\u001b[0m",
      "\u001b[1;31mImportError\u001b[0m                               Traceback (most recent call last)",
      "Cell \u001b[1;32mIn [3], line 1\u001b[0m\n\u001b[1;32m----> 1\u001b[0m \u001b[39mfrom\u001b[39;00m \u001b[39mscipy\u001b[39;00m\u001b[39m.\u001b[39;00m\u001b[39mmisc\u001b[39;00m \u001b[39mimport\u001b[39;00m factorial\n",
      "\u001b[1;31mImportError\u001b[0m: cannot import name 'factorial' from 'scipy.misc' (c:\\Python39\\lib\\site-packages\\scipy\\misc\\__init__.py)"
     ]
    }
   ],
   "source": [
    "from scipy.misc import factorial"
   ]
  },
  {
   "cell_type": "markdown",
   "metadata": {
    "colab_type": "text",
    "id": "TDW0YxbGjVWB"
   },
   "source": [
    "### Solução"
   ]
  },
  {
   "cell_type": "code",
   "execution_count": null,
   "metadata": {
    "colab": {},
    "colab_type": "code",
    "id": "IYakhWIx0Erv"
   },
   "outputs": [],
   "source": [
    "!pip install scipy==1.2 --upgrade"
   ]
  }
 ],
 "metadata": {
  "colab": {
   "name": "Verifica_versão.ipynb",
   "provenance": [],
   "version": "0.3.2"
  },
  "kernelspec": {
   "display_name": "Python 3.9.6 64-bit",
   "language": "python",
   "name": "python3"
  },
  "language_info": {
   "codemirror_mode": {
    "name": "ipython",
    "version": 3
   },
   "file_extension": ".py",
   "mimetype": "text/x-python",
   "name": "python",
   "nbconvert_exporter": "python",
   "pygments_lexer": "ipython3",
   "version": "3.9.6"
  },
  "vscode": {
   "interpreter": {
    "hash": "81794d4967e6c3204c66dcd87b604927b115b27c00565d3d43f05ba2f3a2cb0d"
   }
  }
 },
 "nbformat": 4,
 "nbformat_minor": 1
}
